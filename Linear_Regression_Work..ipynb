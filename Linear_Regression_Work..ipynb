{
 "cells": [
  {
   "cell_type": "markdown",
   "id": "hispanic-whole",
   "metadata": {},
   "source": [
    "# Regression Analysis with Human Happiness Index"
   ]
  },
  {
   "cell_type": "markdown",
   "id": "intelligent-command",
   "metadata": {},
   "source": [
    "### Libraries Used for Analysis"
   ]
  },
  {
   "cell_type": "code",
   "execution_count": 1,
   "id": "overhead-episode",
   "metadata": {},
   "outputs": [],
   "source": [
    "import pandas as pa\n",
    "import numpy as nu\n",
    "import matplotlib.pyplot as plt\n",
    "import seaborn as sea\n",
    "from sklearn.model_selection import train_test_split\n",
    "from sklearn.linear_model import LinearRegression\n",
    "from sklearn.metrics import mean_absolute_error"
   ]
  },
  {
   "cell_type": "markdown",
   "id": "romantic-reform",
   "metadata": {},
   "source": [
    "### Reading the File"
   ]
  },
  {
   "cell_type": "code",
   "execution_count": 2,
   "id": "flexible-tobacco",
   "metadata": {},
   "outputs": [],
   "source": [
    "File = pa.read_csv('~/Downloads/2015.csv')"
   ]
  },
  {
   "cell_type": "markdown",
   "id": "closed-pearl",
   "metadata": {},
   "source": [
    "### Top 10 Details of the Data"
   ]
  },
  {
   "cell_type": "markdown",
   "id": "recorded-evaluation",
   "metadata": {},
   "source": [
    "Here, we using the first 10 data from the 2015 Human Happiness Index."
   ]
  },
  {
   "cell_type": "code",
   "execution_count": 3,
   "id": "noted-gates",
   "metadata": {
    "scrolled": true
   },
   "outputs": [
    {
     "name": "stdout",
     "output_type": "stream",
     "text": [
      "       Country                     Region  Happiness Rank  Happiness Score  \\\n",
      "0  Switzerland             Western Europe               1            7.587   \n",
      "1      Iceland             Western Europe               2            7.561   \n",
      "2      Denmark             Western Europe               3            7.527   \n",
      "3       Norway             Western Europe               4            7.522   \n",
      "4       Canada              North America               5            7.427   \n",
      "5      Finland             Western Europe               6            7.406   \n",
      "6  Netherlands             Western Europe               7            7.378   \n",
      "7       Sweden             Western Europe               8            7.364   \n",
      "8  New Zealand  Australia and New Zealand               9            7.286   \n",
      "9    Australia  Australia and New Zealand              10            7.284   \n",
      "\n",
      "   Standard Error  Economy (GDP per Capita)   Family  \\\n",
      "0         0.03411                   1.39651  1.34951   \n",
      "1         0.04884                   1.30232  1.40223   \n",
      "2         0.03328                   1.32548  1.36058   \n",
      "3         0.03880                   1.45900  1.33095   \n",
      "4         0.03553                   1.32629  1.32261   \n",
      "5         0.03140                   1.29025  1.31826   \n",
      "6         0.02799                   1.32944  1.28017   \n",
      "7         0.03157                   1.33171  1.28907   \n",
      "8         0.03371                   1.25018  1.31967   \n",
      "9         0.04083                   1.33358  1.30923   \n",
      "\n",
      "   Health (Life Expectancy)  Freedom  Trust (Government Corruption)  \\\n",
      "0                   0.94143  0.66557                        0.41978   \n",
      "1                   0.94784  0.62877                        0.14145   \n",
      "2                   0.87464  0.64938                        0.48357   \n",
      "3                   0.88521  0.66973                        0.36503   \n",
      "4                   0.90563  0.63297                        0.32957   \n",
      "5                   0.88911  0.64169                        0.41372   \n",
      "6                   0.89284  0.61576                        0.31814   \n",
      "7                   0.91087  0.65980                        0.43844   \n",
      "8                   0.90837  0.63938                        0.42922   \n",
      "9                   0.93156  0.65124                        0.35637   \n",
      "\n",
      "   Generosity  Dystopia Residual  \n",
      "0     0.29678            2.51738  \n",
      "1     0.43630            2.70201  \n",
      "2     0.34139            2.49204  \n",
      "3     0.34699            2.46531  \n",
      "4     0.45811            2.45176  \n",
      "5     0.23351            2.61955  \n",
      "6     0.47610            2.46570  \n",
      "7     0.36262            2.37119  \n",
      "8     0.47501            2.26425  \n",
      "9     0.43562            2.26646  \n"
     ]
    }
   ],
   "source": [
    "h = File.head(10)\n",
    "print(h)"
   ]
  },
  {
   "cell_type": "markdown",
   "id": "portuguese-plant",
   "metadata": {},
   "source": [
    "### Column Names of the Data "
   ]
  },
  {
   "cell_type": "code",
   "execution_count": 4,
   "id": "intellectual-prison",
   "metadata": {},
   "outputs": [
    {
     "name": "stdout",
     "output_type": "stream",
     "text": [
      "Index(['Country', 'Region', 'Happiness Rank', 'Happiness Score',\n",
      "       'Standard Error', 'Economy (GDP per Capita)', 'Family',\n",
      "       'Health (Life Expectancy)', 'Freedom', 'Trust (Government Corruption)',\n",
      "       'Generosity', 'Dystopia Residual'],\n",
      "      dtype='object')\n"
     ]
    }
   ],
   "source": [
    "print(h.columns)"
   ]
  },
  {
   "cell_type": "markdown",
   "id": "regulated-immigration",
   "metadata": {},
   "source": [
    "Here we using 4 column values for the analysis. Country, Happiness Rank, Happiness Score and Freedom."
   ]
  },
  {
   "cell_type": "code",
   "execution_count": 5,
   "id": "affecting-andrew",
   "metadata": {},
   "outputs": [
    {
     "name": "stdout",
     "output_type": "stream",
     "text": [
      "       Country  Happiness Rank  Happiness Score  Freedom\n",
      "0  Switzerland               1            7.587  0.66557\n",
      "1      Iceland               2            7.561  0.62877\n",
      "2      Denmark               3            7.527  0.64938\n",
      "3       Norway               4            7.522  0.66973\n",
      "4       Canada               5            7.427  0.63297\n",
      "5      Finland               6            7.406  0.64169\n",
      "6  Netherlands               7            7.378  0.61576\n",
      "7       Sweden               8            7.364  0.65980\n",
      "8  New Zealand               9            7.286  0.63938\n",
      "9    Australia              10            7.284  0.65124\n"
     ]
    }
   ],
   "source": [
    "col = h[['Country', 'Happiness Rank', 'Happiness Score', 'Freedom']]\n",
    "print(col)"
   ]
  },
  {
   "cell_type": "markdown",
   "id": "complete-harrison",
   "metadata": {},
   "source": [
    "### Description of Analysing Data"
   ]
  },
  {
   "cell_type": "markdown",
   "id": "infectious-uganda",
   "metadata": {},
   "source": [
    "Using the description of the selected column valus for the values."
   ]
  },
  {
   "cell_type": "code",
   "execution_count": 6,
   "id": "illegal-check",
   "metadata": {},
   "outputs": [
    {
     "data": {
      "text/html": [
       "<div>\n",
       "<style scoped>\n",
       "    .dataframe tbody tr th:only-of-type {\n",
       "        vertical-align: middle;\n",
       "    }\n",
       "\n",
       "    .dataframe tbody tr th {\n",
       "        vertical-align: top;\n",
       "    }\n",
       "\n",
       "    .dataframe thead th {\n",
       "        text-align: right;\n",
       "    }\n",
       "</style>\n",
       "<table border=\"1\" class=\"dataframe\">\n",
       "  <thead>\n",
       "    <tr style=\"text-align: right;\">\n",
       "      <th></th>\n",
       "      <th>Happiness Rank</th>\n",
       "      <th>Happiness Score</th>\n",
       "      <th>Freedom</th>\n",
       "    </tr>\n",
       "  </thead>\n",
       "  <tbody>\n",
       "    <tr>\n",
       "      <th>count</th>\n",
       "      <td>10.00000</td>\n",
       "      <td>10.000000</td>\n",
       "      <td>10.000000</td>\n",
       "    </tr>\n",
       "    <tr>\n",
       "      <th>mean</th>\n",
       "      <td>5.50000</td>\n",
       "      <td>7.434200</td>\n",
       "      <td>0.645429</td>\n",
       "    </tr>\n",
       "    <tr>\n",
       "      <th>std</th>\n",
       "      <td>3.02765</td>\n",
       "      <td>0.110153</td>\n",
       "      <td>0.017048</td>\n",
       "    </tr>\n",
       "    <tr>\n",
       "      <th>min</th>\n",
       "      <td>1.00000</td>\n",
       "      <td>7.284000</td>\n",
       "      <td>0.615760</td>\n",
       "    </tr>\n",
       "    <tr>\n",
       "      <th>25%</th>\n",
       "      <td>3.25000</td>\n",
       "      <td>7.367500</td>\n",
       "      <td>0.634572</td>\n",
       "    </tr>\n",
       "    <tr>\n",
       "      <th>50%</th>\n",
       "      <td>5.50000</td>\n",
       "      <td>7.416500</td>\n",
       "      <td>0.645535</td>\n",
       "    </tr>\n",
       "    <tr>\n",
       "      <th>75%</th>\n",
       "      <td>7.75000</td>\n",
       "      <td>7.525750</td>\n",
       "      <td>0.657660</td>\n",
       "    </tr>\n",
       "    <tr>\n",
       "      <th>max</th>\n",
       "      <td>10.00000</td>\n",
       "      <td>7.587000</td>\n",
       "      <td>0.669730</td>\n",
       "    </tr>\n",
       "  </tbody>\n",
       "</table>\n",
       "</div>"
      ],
      "text/plain": [
       "       Happiness Rank  Happiness Score    Freedom\n",
       "count        10.00000        10.000000  10.000000\n",
       "mean          5.50000         7.434200   0.645429\n",
       "std           3.02765         0.110153   0.017048\n",
       "min           1.00000         7.284000   0.615760\n",
       "25%           3.25000         7.367500   0.634572\n",
       "50%           5.50000         7.416500   0.645535\n",
       "75%           7.75000         7.525750   0.657660\n",
       "max          10.00000         7.587000   0.669730"
      ]
     },
     "execution_count": 6,
     "metadata": {},
     "output_type": "execute_result"
    }
   ],
   "source": [
    "col.describe()"
   ]
  },
  {
   "cell_type": "markdown",
   "id": "american-lawsuit",
   "metadata": {},
   "source": [
    "### Visualization"
   ]
  },
  {
   "cell_type": "markdown",
   "id": "acute-aviation",
   "metadata": {},
   "source": [
    "Visualization about the selected column values. "
   ]
  },
  {
   "cell_type": "code",
   "execution_count": 7,
   "id": "treated-tyler",
   "metadata": {},
   "outputs": [
    {
     "name": "stderr",
     "output_type": "stream",
     "text": [
      "/home/sarath/.local/lib/python3.8/site-packages/pandas/plotting/_matplotlib/tools.py:400: MatplotlibDeprecationWarning: \n",
      "The is_first_col function was deprecated in Matplotlib 3.4 and will be removed two minor releases later. Use ax.get_subplotspec().is_first_col() instead.\n",
      "  if ax.is_first_col():\n"
     ]
    },
    {
     "data": {
      "text/plain": [
       "array([[<AxesSubplot:title={'center':'Happiness Rank'}>,\n",
       "        <AxesSubplot:title={'center':'Happiness Score'}>],\n",
       "       [<AxesSubplot:title={'center':'Freedom'}>, <AxesSubplot:>]],\n",
       "      dtype=object)"
      ]
     },
     "execution_count": 7,
     "metadata": {},
     "output_type": "execute_result"
    },
    {
     "data": {
      "image/png": "[encoded data removed]",
      "text/plain": [
       "<Figure size 720x576 with 4 Axes>"
      ]
     },
     "metadata": {
      "needs_background": "light"
     },
     "output_type": "display_data"
    }
   ],
   "source": [
    "col.hist(figsize = (10,8))"
   ]
  },
  {
   "cell_type": "markdown",
   "id": "optional-contractor",
   "metadata": {},
   "source": [
    "Using selected column names for analysis."
   ]
  },
  {
   "cell_type": "code",
   "execution_count": 8,
   "id": "speaking-newsletter",
   "metadata": {},
   "outputs": [
    {
     "data": {
      "text/plain": [
       "Index(['Country', 'Happiness Rank', 'Happiness Score', 'Freedom'], dtype='object')"
      ]
     },
     "execution_count": 8,
     "metadata": {},
     "output_type": "execute_result"
    }
   ],
   "source": [
    "col.columns"
   ]
  },
  {
   "cell_type": "markdown",
   "id": "excited-saying",
   "metadata": {},
   "source": [
    "### Distribution Plot of the Selected Column Values."
   ]
  },
  {
   "cell_type": "code",
   "execution_count": 9,
   "id": "responsible-looking",
   "metadata": {},
   "outputs": [
    {
     "name": "stderr",
     "output_type": "stream",
     "text": [
      "/home/sarath/.local/lib/python3.8/site-packages/seaborn/distributions.py:2557: FutureWarning: `distplot` is a deprecated function and will be removed in a future version. Please adapt your code to use either `displot` (a figure-level function with similar flexibility) or `histplot` (an axes-level function for histograms).\n",
      "  warnings.warn(msg, FutureWarning)\n"
     ]
    },
    {
     "data": {
      "image/png": "[encoded data removed]",
      "text/plain": [
       "<Figure size 432x288 with 1 Axes>"
      ]
     },
     "metadata": {
      "needs_background": "light"
     },
     "output_type": "display_data"
    },
    {
     "name": "stderr",
     "output_type": "stream",
     "text": [
      "/home/sarath/.local/lib/python3.8/site-packages/seaborn/distributions.py:2557: FutureWarning: `distplot` is a deprecated function and will be removed in a future version. Please adapt your code to use either `displot` (a figure-level function with similar flexibility) or `histplot` (an axes-level function for histograms).\n",
      "  warnings.warn(msg, FutureWarning)\n"
     ]
    },
    {
     "data": {
      "image/png": "[encoded data removed]",
      "text/plain": [
       "<Figure size 432x288 with 1 Axes>"
      ]
     },
     "metadata": {
      "needs_background": "light"
     },
     "output_type": "display_data"
    }
   ],
   "source": [
    "sea.distplot(col['Happiness Rank'])\n",
    "plt.show()\n",
    "sea.distplot(col['Happiness Score'])\n",
    "plt.show()\n"
   ]
  },
  {
   "cell_type": "markdown",
   "id": "joined-jonathan",
   "metadata": {},
   "source": [
    "### Barplot "
   ]
  },
  {
   "cell_type": "markdown",
   "id": "racial-moisture",
   "metadata": {},
   "source": [
    "Using barplot to show Happiness score of top ten countries having"
   ]
  },
  {
   "cell_type": "code",
   "execution_count": 10,
   "id": "ranking-blanket",
   "metadata": {},
   "outputs": [
    {
     "data": {
      "image/png": "[encoded data removed]",
      "text/plain": [
       "<Figure size 720x576 with 1 Axes>"
      ]
     },
     "metadata": {
      "needs_background": "light"
     },
     "output_type": "display_data"
    }
   ],
   "source": [
    "x = col['Country']\n",
    "y = col['Happiness Score']\n",
    "fig,ax = plt.subplots(figsize = (10, 8))\n",
    "plot1 = sea.barplot(x = x, y = y)\n",
    "plot1.set(xlabel = 'Country', ylabel = 'Happiness Score')\n",
    "plot1.set_title('Countries with Happiness Score', fontdict = {'fontsize': 18, 'fontweight': 'bold'})\n",
    "plt.show()"
   ]
  },
  {
   "cell_type": "markdown",
   "id": "nonprofit-taxation",
   "metadata": {},
   "source": [
    "### Pairplot"
   ]
  },
  {
   "cell_type": "markdown",
   "id": "empty-frederick",
   "metadata": {},
   "source": [
    "Pairplot use to show the both distribution of single variable and relationships between two variables. Here, relationship between Happiness Rank (in x-axis), and Freedom and Happiness Score. Like Happiness Rank, second and third plot shows the relationship between Happiness Score (x-axis) , Freedom (x-axis) between Happiness Rank and Freedom."
   ]
  },
  {
   "cell_type": "code",
   "execution_count": 11,
   "id": "whole-bracket",
   "metadata": {},
   "outputs": [
    {
     "data": {
      "text/plain": [
       "<seaborn.axisgrid.PairGrid at 0x7f96de6f9ee0>"
      ]
     },
     "execution_count": 11,
     "metadata": {},
     "output_type": "execute_result"
    },
    {
     "data": {
      "image/png": "[encoded data removed]",
      "text/plain": [
       "<Figure size 540x540 with 12 Axes>"
      ]
     },
     "metadata": {
      "needs_background": "light"
     },
     "output_type": "display_data"
    }
   ],
   "source": [
    "sea.pairplot(col)"
   ]
  },
  {
   "cell_type": "markdown",
   "id": "formed-rough",
   "metadata": {},
   "source": [
    "### Scatter Plot"
   ]
  },
  {
   "cell_type": "markdown",
   "id": "ordinary-composition",
   "metadata": {},
   "source": [
    "Scatter plot show the Freedom value in top 10 countries."
   ]
  },
  {
   "cell_type": "code",
   "execution_count": 12,
   "id": "parental-mediterranean",
   "metadata": {},
   "outputs": [
    {
     "data": {
      "image/png": "[encoded data removed]",
      "text/plain": [
       "<Figure size 432x288 with 1 Axes>"
      ]
     },
     "metadata": {
      "needs_background": "light"
     },
     "output_type": "display_data"
    }
   ],
   "source": [
    "sea.scatterplot(x = col['Country'], y = col['Freedom'])\n",
    "plt.title('Countries with Freedom', size = 10)\n",
    "plt.xlabel('Countries', size = 8)\n",
    "plt.ylabel('Freedom', size = 8)\n",
    "plt.show()"
   ]
  },
  {
   "cell_type": "markdown",
   "id": "finite-humidity",
   "metadata": {},
   "source": [
    "### Regression Plot"
   ]
  },
  {
   "cell_type": "markdown",
   "id": "silver-prescription",
   "metadata": {},
   "source": [
    "Regression plot use the relationship between Freedom and Happiness Score."
   ]
  },
  {
   "cell_type": "code",
   "execution_count": 13,
   "id": "complex-humidity",
   "metadata": {},
   "outputs": [
    {
     "data": {
      "image/png": "[encoded data removed]",
      "text/plain": [
       "<Figure size 432x288 with 1 Axes>"
      ]
     },
     "metadata": {
      "needs_background": "light"
     },
     "output_type": "display_data"
    }
   ],
   "source": [
    "sea.regplot(x = col['Happiness Score'], y = col['Freedom'])\n",
    "plt.title('Regression Plot', size = 10)\n",
    "plt.xlabel('Happiness Score in the Countries', size = 8)\n",
    "plt.ylabel('Freedom Value in the Countries', size = 8)\n",
    "plt.show()"
   ]
  },
  {
   "cell_type": "markdown",
   "id": "flying-fault",
   "metadata": {},
   "source": [
    "### Heatmap"
   ]
  },
  {
   "cell_type": "markdown",
   "id": "toxic-opinion",
   "metadata": {},
   "source": [
    "Heatmap shows the relationships between the values itself and other values like Happiness Rank, Happiness Score and Freedom."
   ]
  },
  {
   "cell_type": "code",
   "execution_count": 14,
   "id": "opening-perspective",
   "metadata": {},
   "outputs": [
    {
     "data": {
      "text/plain": [
       "<AxesSubplot:>"
      ]
     },
     "execution_count": 14,
     "metadata": {},
     "output_type": "execute_result"
    },
    {
     "data": {
      "image/png": "[encoded data removed]",
      "text/plain": [
       "<Figure size 432x288 with 2 Axes>"
      ]
     },
     "metadata": {
      "needs_background": "light"
     },
     "output_type": "display_data"
    }
   ],
   "source": [
    "sea.heatmap(col.corr(), annot = True)"
   ]
  },
  {
   "cell_type": "markdown",
   "id": "reserved-thing",
   "metadata": {},
   "source": [
    "### Regression Analysis."
   ]
  },
  {
   "cell_type": "markdown",
   "id": "beautiful-difficulty",
   "metadata": {},
   "source": [
    "Taking the values from Happiness Score and Freedom column for regression analysis for to understand how the values are related."
   ]
  },
  {
   "cell_type": "code",
   "execution_count": 15,
   "id": "sufficient-opinion",
   "metadata": {},
   "outputs": [
    {
     "name": "stdout",
     "output_type": "stream",
     "text": [
      "[7.587 7.561 7.527 7.522 7.427 7.406 7.378 7.364 7.286 7.284]\n",
      "[0.66557 0.62877 0.64938 0.66973 0.63297 0.64169 0.61576 0.6598  0.63938\n",
      " 0.65124]\n",
      "<class 'numpy.ndarray'>\n"
     ]
    }
   ],
   "source": [
    "x = col.iloc[:, 2:3]  # Taking 'Happiness Score' column\n",
    "y = col.iloc[:, 3:4]  # Taking 'Freedom' column\n",
    "#print(x.columns)\n",
    "x1 = x['Happiness Score']\n",
    "x1 =nu.array(x1)\n",
    "print(x1)\n",
    "y1 = y['Freedom']\n",
    "y1 = nu.array(y1)\n",
    "print(y1)\n",
    "print(type(y1))\n"
   ]
  },
  {
   "cell_type": "code",
   "execution_count": 16,
   "id": "amended-aluminum",
   "metadata": {},
   "outputs": [
    {
     "name": "stdout",
     "output_type": "stream",
     "text": [
      "[[7.587]\n",
      " [7.561]\n",
      " [7.527]\n",
      " [7.522]\n",
      " [7.427]\n",
      " [7.406]\n",
      " [7.378]\n",
      " [7.364]\n",
      " [7.286]\n",
      " [7.284]]\n",
      "<class 'numpy.ndarray'>\n"
     ]
    }
   ],
   "source": [
    "len(x1)\n",
    "x1 = x1.reshape((10,1))\n",
    "print(x1)\n",
    "print(type(x1))"
   ]
  },
  {
   "cell_type": "markdown",
   "id": "stuffed-lindsay",
   "metadata": {},
   "source": [
    "### Performing the Test"
   ]
  },
  {
   "cell_type": "markdown",
   "id": "synthetic-teens",
   "metadata": {},
   "source": [
    "T-Test is checking the mean values (weights) of two samples taken selected from the data, for checking the relationship between two values. Here, the two values are Freedom and Happiness Score. "
   ]
  },
  {
   "cell_type": "markdown",
   "id": "labeled-nepal",
   "metadata": {},
   "source": [
    "#### Spliting"
   ]
  },
  {
   "cell_type": "code",
   "execution_count": 17,
   "id": "adaptive-accommodation",
   "metadata": {},
   "outputs": [],
   "source": [
    "x_train, x_test, y_train,y_test = train_test_split(x1, y1, test_size = 0.4, random_state = 1)"
   ]
  },
  {
   "cell_type": "code",
   "execution_count": 18,
   "id": "consolidated-andorra",
   "metadata": {},
   "outputs": [],
   "source": [
    "x_train, x_test, y_train, y_test = train_test_split(x1, y1)"
   ]
  },
  {
   "cell_type": "code",
   "execution_count": 19,
   "id": "rotary-harvard",
   "metadata": {},
   "outputs": [
    {
     "name": "stdout",
     "output_type": "stream",
     "text": [
      "(7, 1)\n",
      "(3, 1)\n",
      "(7,)\n",
      "(3,)\n"
     ]
    }
   ],
   "source": [
    "print(x_train.shape)\n",
    "print(x_test.shape)\n",
    "print(y_train.shape)\n",
    "print(y_test.shape)"
   ]
  },
  {
   "cell_type": "code",
   "execution_count": 20,
   "id": "pending-payday",
   "metadata": {},
   "outputs": [],
   "source": [
    "x_train,x_test,y_train,y_test = train_test_split(x1,y1,test_size = 0.1)"
   ]
  },
  {
   "cell_type": "code",
   "execution_count": 21,
   "id": "international-catalyst",
   "metadata": {},
   "outputs": [
    {
     "name": "stdout",
     "output_type": "stream",
     "text": [
      "(9, 1)\n",
      "(1, 1)\n",
      "(9,)\n",
      "(1,)\n"
     ]
    }
   ],
   "source": [
    "print(x_train.shape)\n",
    "print(x_test.shape)\n",
    "print(y_train.shape)\n",
    "print(y_test.shape)"
   ]
  },
  {
   "cell_type": "markdown",
   "id": "through-throat",
   "metadata": {},
   "source": [
    "#### Mean Value"
   ]
  },
  {
   "cell_type": "code",
   "execution_count": 22,
   "id": "postal-tiger",
   "metadata": {},
   "outputs": [
    {
     "name": "stdout",
     "output_type": "stream",
     "text": [
      "7.424444444444443\n",
      "7.522\n",
      "0.6427288888888889\n",
      "0.66973\n"
     ]
    }
   ],
   "source": [
    "print(nu.mean(x_train))\n",
    "print(nu.mean(x_test))\n",
    "print(nu.mean(y_train))\n",
    "print(nu.mean(y_test))"
   ]
  },
  {
   "cell_type": "code",
   "execution_count": 23,
   "id": "spectacular-approach",
   "metadata": {},
   "outputs": [],
   "source": [
    "x_train,x_test,y_train, y_test = train_test_split(x1,y1,test_size = 3, random_state = 0)"
   ]
  },
  {
   "cell_type": "code",
   "execution_count": 24,
   "id": "placed-palmer",
   "metadata": {},
   "outputs": [
    {
     "name": "stdout",
     "output_type": "stream",
     "text": [
      "7.443142857142857\n",
      "7.413333333333333\n",
      "0.6475085714285714\n",
      "0.6405766666666667\n"
     ]
    }
   ],
   "source": [
    "print(nu.mean(x_train))\n",
    "print(nu.mean(x_test))\n",
    "print(nu.mean(y_train))\n",
    "print(nu.mean(y_test))"
   ]
  },
  {
   "cell_type": "code",
   "execution_count": 25,
   "id": "removable-chart",
   "metadata": {},
   "outputs": [
    {
     "data": {
      "text/plain": [
       "LinearRegression()"
      ]
     },
     "execution_count": 25,
     "metadata": {},
     "output_type": "execute_result"
    }
   ],
   "source": [
    "l_r = LinearRegression()\n",
    "l_r.fit(x_train, y_train)\n"
   ]
  },
  {
   "cell_type": "code",
   "execution_count": 26,
   "id": "victorian-industry",
   "metadata": {},
   "outputs": [],
   "source": [
    "Freedom_predict = l_r.predict(x_test)\n"
   ]
  },
  {
   "cell_type": "code",
   "execution_count": 27,
   "id": "contemporary-malpractice",
   "metadata": {},
   "outputs": [
    {
     "name": "stdout",
     "output_type": "stream",
     "text": [
      "    Actual  Predicted Value\n",
      "0  0.64938         0.650582\n",
      "1  0.63938         0.641748\n",
      "2  0.63297         0.646917\n",
      "Mean Absolute Error 0.005839197108805538\n"
     ]
    }
   ],
   "source": [
    "column_file = pa.DataFrame({'Actual': y_test, 'Predicted Value': Freedom_predict})\n",
    "print(column_file)\n",
    "print('Mean Absolute Error',mean_absolute_error(y_test,Freedom_predict))"
   ]
  },
  {
   "cell_type": "markdown",
   "id": "collected-tourism",
   "metadata": {},
   "source": [
    "Using the Regression plot for showing the variables (Happiness Score and Freedom), and how much they differ from the its degree of relation (mean absolute value)."
   ]
  },
  {
   "cell_type": "code",
   "execution_count": 28,
   "id": "tested-terminal",
   "metadata": {},
   "outputs": [
    {
     "data": {
      "image/png": "[encoded data removed]",
      "text/plain": [
       "<Figure size 432x288 with 1 Axes>"
      ]
     },
     "metadata": {
      "needs_background": "light"
     },
     "output_type": "display_data"
    }
   ],
   "source": [
    "sea.regplot(x = y_test, y = Freedom_predict)\n",
    "plt.title('Regression_Plot_of_Happiness_Score & Freedom', size = 10)\n",
    "plt.ylabel('Freedom', size = 8)\n",
    "plt.xlabel('Happiness_Score', size = 8)\n",
    "plt.show()"
   ]
  }
 ],
 "metadata": {
  "kernelspec": {
   "display_name": "Python 3",
   "language": "python",
   "name": "python3"
  },
  "language_info": {
   "codemirror_mode": {
    "name": "ipython",
    "version": 3
   },
   "file_extension": ".py",
   "mimetype": "text/x-python",
   "name": "python",
   "nbconvert_exporter": "python",
   "pygments_lexer": "ipython3",
   "version": "3.8.5"
  }
 },
 "nbformat": 4,
 "nbformat_minor": 5
}
